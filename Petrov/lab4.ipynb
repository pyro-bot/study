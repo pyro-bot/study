{
 "cells": [
  {
   "cell_type": "code",
   "execution_count": 43,
   "metadata": {
    "collapsed": false
   },
   "outputs": [],
   "source": [
    "%matplotlib inline\n",
    "from matplotlib import pyplot as plt\n",
    "import numpy as np\n",
    "import sympy as sp\n",
    "import sympy.printing.mathml as mathml\n",
    "from sympy.printing.mathml import print_mathml\n",
    "\n",
    "sp.init_printing(use_unicode=True)"
   ]
  },
  {
   "cell_type": "code",
   "execution_count": 20,
   "metadata": {
    "collapsed": false
   },
   "outputs": [
    {
     "name": "stdout",
     "output_type": "stream",
     "text": [
      "Задача 1. Моделирование неоднородной дискретной цепи Маркова.\n",
      "P(k)=\n"
     ]
    },
    {
     "data": {
      "text/latex": [
       "$$\\left ( \\left[\\begin{matrix}\\frac{k + 3}{2 k + 4} & \\frac{k - 1}{2 k + 4} & \\frac{1}{k + 2}\\\\\\frac{1}{k + 1} & \\frac{k - 1}{k + 1} & \\frac{1}{k + 1}\\\\\\frac{2}{k + 2} & \\frac{1}{k + 2} & \\frac{k - 1}{k + 1}\\end{matrix}\\right], \\quad \\left[\\begin{matrix}0.4 & 0.2 & 0.4\\\\0.3 & 0.5 & 0.2\\\\0.2 & 0.3 & 0.5\\end{matrix}\\right]\\right )$$"
      ],
      "text/plain": [
       "⎛⎡ k + 3    k - 1     1  ⎤                 ⎞\n",
       "⎜⎢───────  ───────  ─────⎥, ⎡0.4  0.2  0.4⎤⎟\n",
       "⎜⎢2⋅k + 4  2⋅k + 4  k + 2⎥  ⎢             ⎥⎟\n",
       "⎜⎢                       ⎥  ⎢0.3  0.5  0.2⎥⎟\n",
       "⎜⎢   1      k - 1     1  ⎥  ⎢             ⎥⎟\n",
       "⎜⎢ ─────    ─────   ─────⎥  ⎣0.2  0.3  0.5⎦⎟\n",
       "⎜⎢ k + 1    k + 1   k + 1⎥                 ⎟\n",
       "⎜⎢                       ⎥                 ⎟\n",
       "⎜⎢   2        1     k - 1⎥                 ⎟\n",
       "⎜⎢ ─────    ─────   ─────⎥                 ⎟\n",
       "⎝⎣ k + 2    k + 2   k + 1⎦                 ⎠"
      ]
     },
     "execution_count": 20,
     "metadata": {},
     "output_type": "execute_result"
    }
   ],
   "source": [
    "print('Задача 1. Моделирование неоднородной дискретной цепи Маркова.')\n",
    "k = sp.Symbol('k')\n",
    "print('P(k)=')\n",
    "P_k = sp.Matrix([\n",
    "        [(k + 3) / (2 * (k + 2)), (k-1) / (2 * (k + 2)), 1 / (k + 2)],\n",
    "        [1 / (k + 1), (k - 1) / (k + 1), 1 / (k + 1)],\n",
    "        [2 / (k + 2), 1 / (k + 2), (k - 1) / (k + 1)],\n",
    "])\n",
    "fP_k = lambda a: P_k.replace(k, a)\n",
    "\n",
    "P = sp.Matrix([[0.4, 0.2, 0.4], [0.3, 0.5, 0.2], [0.2, 0.3, 0.5]])\n",
    "\n",
    "P_k, P"
   ]
  },
  {
   "cell_type": "code",
   "execution_count": 25,
   "metadata": {
    "collapsed": false
   },
   "outputs": [
    {
     "data": {
      "text/latex": [
       "$$\\left[\\begin{matrix}\\frac{0.3 k - 0.3}{2 k + 4} + \\frac{0.4 k + 1.2}{2 k + 4} + \\frac{0.2}{k + 2} & \\frac{0.5 k - 0.5}{2 k + 4} + \\frac{0.2 k + 0.6}{2 k + 4} + \\frac{0.3}{k + 2} & \\frac{0.2 k - 0.2}{2 k + 4} + \\frac{0.4 k + 1.2}{2 k + 4} + \\frac{0.5}{k + 2}\\\\\\frac{0.3 k - 0.3}{k + 1} + \\frac{0.6}{k + 1} & \\frac{0.5 k - 0.5}{k + 1} + \\frac{0.5}{k + 1} & \\frac{0.2 k - 0.2}{k + 1} + \\frac{0.9}{k + 1}\\\\\\frac{0.2 k - 0.2}{k + 1} + \\frac{1.1}{k + 2} & \\frac{0.3 k - 0.3}{k + 1} + \\frac{0.9}{k + 2} & \\frac{0.5 k - 0.5}{k + 1} + \\frac{1.0}{k + 2}\\end{matrix}\\right]$$"
      ],
      "text/plain": [
       "⎡0.3⋅(k - 1)   0.4⋅(k + 3)    0.2   0.5⋅(k - 1)   0.2⋅(k + 3)    0.3   0.2⋅(k \n",
       "⎢─────────── + ─────────── + ─────  ─────────── + ─────────── + ─────  ───────\n",
       "⎢  2⋅k + 4       2⋅k + 4     k + 2    2⋅k + 4       2⋅k + 4     k + 2    2⋅k +\n",
       "⎢                                                                             \n",
       "⎢       0.3⋅(k - 1)    0.6                 0.5⋅(k - 1)    0.5                 \n",
       "⎢       ─────────── + ─────                ─────────── + ─────                \n",
       "⎢          k + 1      k + 1                   k + 1      k + 1                \n",
       "⎢                                                                             \n",
       "⎢       0.2⋅(k - 1)    1.1                 0.3⋅(k - 1)    0.9                 \n",
       "⎢       ─────────── + ─────                ─────────── + ─────                \n",
       "⎣          k + 1      k + 2                   k + 1      k + 2                \n",
       "\n",
       "- 1)   0.4⋅(k + 3)    0.5 ⎤\n",
       "──── + ─────────── + ─────⎥\n",
       " 4       2⋅k + 4     k + 2⎥\n",
       "                          ⎥\n",
       "0.2⋅(k - 1)    0.9        ⎥\n",
       "─────────── + ─────       ⎥\n",
       "   k + 1      k + 1       ⎥\n",
       "                          ⎥\n",
       "0.5⋅(k - 1)    1.0        ⎥\n",
       "─────────── + ─────       ⎥\n",
       "   k + 1      k + 2       ⎦"
      ]
     },
     "execution_count": 25,
     "metadata": {},
     "output_type": "execute_result"
    }
   ],
   "source": [
    "# fP_k = sp.lambdify(k, P_k)\n",
    "P_k.multiply(P)"
   ]
  },
  {
   "cell_type": "code",
   "execution_count": 47,
   "metadata": {
    "collapsed": false,
    "scrolled": false
   },
   "outputs": [
    {
     "data": {
      "text/plain": [
       "'\\\\left[\\\\begin{matrix}\\\\frac{0.3 k - 0.3}{2 k + 4} + \\\\frac{0.4 k + 1.2}{2 k + 4} + \\\\frac{0.2}{k + 2} & \\\\frac{0.5 k - 0.5}{2 k + 4} + \\\\frac{0.2 k + 0.6}{2 k + 4} + \\\\frac{0.3}{k + 2} & \\\\frac{0.2 k - 0.2}{2 k + 4} + \\\\frac{0.4 k + 1.2}{2 k + 4} + \\\\frac{0.5}{k + 2}\\\\\\\\\\\\frac{0.3 k - 0.3}{k + 1} + \\\\frac{0.6}{k + 1} & \\\\frac{0.5 k - 0.5}{k + 1} + \\\\frac{0.5}{k + 1} & \\\\frac{0.2 k - 0.2}{k + 1} + \\\\frac{0.9}{k + 1}\\\\\\\\\\\\frac{0.2 k - 0.2}{k + 1} + \\\\frac{1.1}{k + 2} & \\\\frac{0.3 k - 0.3}{k + 1} + \\\\frac{0.9}{k + 2} & \\\\frac{0.5 k - 0.5}{k + 1} + \\\\frac{1.0}{k + 2}\\\\end{matrix}\\\\right]'"
      ]
     },
     "execution_count": 47,
     "metadata": {},
     "output_type": "execute_result"
    }
   ],
   "source": [
    "sp.printing.latex(_25)\n",
    "# print('<?xml version=\"1.0\" encoding=\"UTF-8\"?><math xmlns=\"http://www.w3.org/1998/Math/MathML\">' + print_mathml(_25) + \"</math>\")"
   ]
  },
  {
   "cell_type": "code",
   "execution_count": null,
   "metadata": {
    "collapsed": true
   },
   "outputs": [],
   "source": [
    "for n = 1:10\n",
    "    sost = 1;\n",
    "for i = 1:20\n",
    "  P = [(i+3)/(2*(i+2)) (i-1)/(2*(i+2)) 1/(i+2);\n",
    "        1/(i+1) (i-1)/(i+1) 1/(i+1);\n",
    "        2/(i+2) 1/(i+2) (i-1)/(i+1)];      \n",
    "  \n",
    "  alpha1(i) = rand(1); \n",
    "  \n",
    "  if(alpha1(i) < P(sost,1))\n",
    "    Res(n,i) = 1;\n",
    "    sost = 1;\n",
    "  else if((P(sost,1) < alpha1(i)) && (alpha1(i) <= P(sost,1) + P(sost,2)))\n",
    "        Res(n,i) = 2;\n",
    "        sost = 2;\n",
    "  else if(alpha1(i) > P(sost,1) + P(sost,2))\n",
    "        Res(n,i) = 3;\n",
    "        sost = 3;\n",
    "  end\n",
    "  end\n",
    "  end\n",
    "end\n",
    "end\n",
    "\n",
    "disp('');\n",
    "disp('Результат: ');\n",
    "disp(Res);\n",
    "\n",
    "\n",
    "disp('-----------------------------------------');\n",
    "disp('Задача 2. Моделирование однородной дискретной цепи Маркова.');\n",
    "disp(' ');\n",
    "disp('P=');\n",
    "P = [0.1 0.3 0.6;\n",
    "        0.7 0.1 0.2;\n",
    "        0.1 0.8 0.1];\n",
    "disp(P);    \n",
    "disp(' ');\n",
    "\n",
    "\n",
    "for n = 1:10\n",
    "    \n",
    "    sost = 1;\n",
    "for i = 1:20    \n",
    "  \n",
    "  alpha2(i) = rand(1); \n",
    "  \n",
    "  if(alpha2(i) < P(sost,1))\n",
    "    Res(n,i) = 1;\n",
    "    sost = 1;\n",
    "  else if((P(sost,1) < alpha2(i)) && (alpha2(i) <= P(sost,1) + P(sost,2)))\n",
    "        Res(n,i) = 2;\n",
    "        sost = 2;\n",
    "  else if(alpha2(i) > P(sost,1) + P(sost,2))\n",
    "        Res(n,i) = 3;\n",
    "        sost = 3;\n",
    "  end\n",
    "  end\n",
    "  end\n",
    "end\n",
    "end\n",
    "\n",
    "disp('');\n",
    "disp('Результат: ');\n",
    "disp(Res);\n",
    "\n",
    "disp('------------------------------------------');\n",
    "disp('Задача 3. Моделирование времени блуждания точки в области.');\n",
    "disp(' ');\n",
    "\n",
    "p = [0.15 0.15 0.35 0.35]\n",
    "A = [2 6]\n",
    "B = [-2 6]\n",
    "C = [-2 -4]\n",
    "D = [2 -4]\n",
    "\n",
    "n = 100\n",
    "allTime = 0;\n",
    "for i=1:n\n",
    "    coord = [0 0];\n",
    "    k = 0;\n",
    "    while(((-2<=coord(1))&&(coord(1)<=2))&&((-4<=coord(2))&&(coord(2)<=6)))\n",
    "        alpha3(i) = rand(1);\n",
    "        if(alpha3(i)<=p(1))\n",
    "            coord(1) = coord(1) + 1;\n",
    "        else if((p(1)<alpha3(i))&&(alpha3(i)<=p(1)+p(2)))\n",
    "            coord(2) = coord(2) + 1;\n",
    "        else if((p(1)+p(2)<alpha3(i))&&(alpha3(i)<=p(1)+p(2)+p(3)))\n",
    "             coord(1) = coord(1) - 1;   \n",
    "        else if(alpha3(i)>p(1)+p(2)+p(3))\n",
    "             coord(2) = coord(2) - 1;       \n",
    "        end\n",
    "        end\n",
    "        end\n",
    "        end\n",
    "    k = k + 1;\n",
    "    end\n",
    "    allTime = allTime + k-1;\n",
    "    disp(sprintf('%g  ;  (%g,%g)', k-1,coord(1),coord(2)));\n",
    "\n",
    "end\n",
    "disp('Среднее время:')\n",
    "disp(allTime / n)"
   ]
  },
  {
   "cell_type": "code",
   "execution_count": null,
   "metadata": {
    "collapsed": true
   },
   "outputs": [],
   "source": []
  }
 ],
 "metadata": {
  "anaconda-cloud": {},
  "kernelspec": {
   "display_name": "Python [conda root]",
   "language": "python",
   "name": "conda-root-py"
  },
  "language_info": {
   "codemirror_mode": {
    "name": "ipython",
    "version": 3
   },
   "file_extension": ".py",
   "mimetype": "text/x-python",
   "name": "python",
   "nbconvert_exporter": "python",
   "pygments_lexer": "ipython3",
   "version": "3.5.2"
  }
 },
 "nbformat": 4,
 "nbformat_minor": 2
}
